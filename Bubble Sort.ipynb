{
 "cells": [
  {
   "cell_type": "markdown",
   "metadata": {},
   "source": [
    "# Bubble Sort"
   ]
  },
  {
   "cell_type": "markdown",
   "metadata": {},
   "source": [
    "- Compare Two Adjacent Element and pass element if left is greater than Right"
   ]
  },
  {
   "cell_type": "code",
   "execution_count": 2,
   "metadata": {},
   "outputs": [
    {
     "name": "stdout",
     "output_type": "stream",
     "text": [
      "Array Before Sorting:  [-2, 45, 0, 11, -9]\n",
      "Array After Sorting:  [-9, -2, 0, 11, 45]\n"
     ]
    }
   ],
   "source": [
    "def bubblesort(arr):\n",
    "    for i in range(len(arr)):\n",
    "        swaped = True\n",
    "        for j in range(0, len(arr) - i - 1):\n",
    "            if arr[j] > arr[j+1]:\n",
    "                #swap\n",
    "                arr[j], arr[j+1] = arr[j+1], arr[j]\n",
    "                swapped = False\n",
    "        \n",
    "        # If there is not swapping in the last swap, then the array is already sorted.\n",
    "        if swapped:\n",
    "            break\n",
    "    \n",
    "    \n",
    "arr = [-2, 45, 0, 11, -9]\n",
    "print(\"Array Before Sorting: \", arr)\n",
    "bubblesort(arr)\n",
    "print(\"Array After Sorting: \", arr)"
   ]
  },
  {
   "cell_type": "markdown",
   "metadata": {},
   "source": [
    "## TimeComplexity:"
   ]
  },
  {
   "cell_type": "markdown",
   "metadata": {},
   "source": [
    "#### Best Case: O(n) [When All elements are in Sorted already]\n",
    "#### WorstCase; O(n**2)"
   ]
  },
  {
   "cell_type": "markdown",
   "metadata": {},
   "source": [
    "## SpaceComplexity"
   ]
  },
  {
   "cell_type": "markdown",
   "metadata": {},
   "source": [
    "#### Space is Constant: O(1)\n",
    "\n",
    "- No Extra Variables Taken"
   ]
  },
  {
   "cell_type": "markdown",
   "metadata": {},
   "source": [
    "- Eventhough The time and Space for Bubble Sort and Insertion SOrt are Same,insertion Sort Works way better than Bubble SOrt in all Cases"
   ]
  },
  {
   "cell_type": "code",
   "execution_count": null,
   "metadata": {},
   "outputs": [],
   "source": []
  }
 ],
 "metadata": {
  "kernelspec": {
   "display_name": "Python 3",
   "language": "python",
   "name": "python3"
  },
  "language_info": {
   "codemirror_mode": {
    "name": "ipython",
    "version": 3
   },
   "file_extension": ".py",
   "mimetype": "text/x-python",
   "name": "python",
   "nbconvert_exporter": "python",
   "pygments_lexer": "ipython3",
   "version": "3.7.6"
  }
 },
 "nbformat": 4,
 "nbformat_minor": 4
}
