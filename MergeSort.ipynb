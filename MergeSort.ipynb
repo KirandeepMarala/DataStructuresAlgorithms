{
 "cells": [
  {
   "cell_type": "markdown",
   "metadata": {},
   "source": [
    "# Merge Sort [Divide and Conquer]"
   ]
  },
  {
   "cell_type": "code",
   "execution_count": 2,
   "metadata": {},
   "outputs": [
    {
     "name": "stdout",
     "output_type": "stream",
     "text": [
      "Before Sorting:  [54, 26, 93, 17, 77, 31, 44, 55]\n",
      "After Sorting:  [17, 26, 31, 44, 54, 55, 77, 93]\n"
     ]
    }
   ],
   "source": [
    "def merge(arr, left, right):\n",
    "    i = 0\n",
    "    j = 0\n",
    "    \n",
    "    #k for iterating through Entire List\n",
    "    k = 0\n",
    "    while i < len(left) and j < len(right):\n",
    "        if left[i] <= right[j]:\n",
    "            arr[k] = left[i]\n",
    "            i += 1\n",
    "        else:\n",
    "            arr[k] = right[j]\n",
    "            j += 1\n",
    "        k += 1\n",
    "        \n",
    "    #Still some elements left \n",
    "    while i < len(left):\n",
    "        arr[k] = left[i]\n",
    "        i += 1\n",
    "        k += 1\n",
    "    while j < len(right):\n",
    "        arr[k] = right[j]\n",
    "        j += 1\n",
    "        k += 1\n",
    "        \n",
    "    \n",
    "            \n",
    "\n",
    "def mergeSort(arr):\n",
    "    \n",
    "    #Splitting the array until get the one element at each list\n",
    "    if len(arr) > 1:\n",
    "        mid = len(arr) // 2  #8/2 = 4\n",
    "        left = arr[: mid]     #Here it takes O(n) space for creating \n",
    "        right = arr[mid: ]    #the extra space for sub arrays\n",
    "        mergeSort(left)       #here dividing happens upto some certain Levels\n",
    "        mergeSort(right)      #and that levels depends on log(n)\n",
    "        \n",
    "        #Calling merge function\n",
    "        merge(arr, left, right)   #Merge Takes time complexity of O(n)\n",
    "        \n",
    " \n",
    "arr = [54, 26, 93, 17, 77, 31, 44, 55]\n",
    "print(\"Before Sorting: \", arr)\n",
    "mergeSort(arr)\n",
    "print(\"After Sorting: \", arr)"
   ]
  },
  {
   "cell_type": "markdown",
   "metadata": {},
   "source": [
    "## TimeComplexity:"
   ]
  },
  {
   "cell_type": "markdown",
   "metadata": {},
   "source": [
    "### Best Case And Worst Case: O(n*log(n))"
   ]
  },
  {
   "cell_type": "markdown",
   "metadata": {},
   "source": [
    "- Here 'n' stands for time taking for merging sub-arrays at each sub levels\n",
    "- Here 'log(n)' Stands for Number of Levels and it sequence stands like 2, 4, 8, 16 which equals to log(n)"
   ]
  },
  {
   "cell_type": "markdown",
   "metadata": {},
   "source": [
    "## SpaceComplexity"
   ]
  },
  {
   "cell_type": "markdown",
   "metadata": {},
   "source": [
    "#### Space is Constant: O(n)\n",
    "\n",
    "- Here This is Because of extra space created for each Sub-arrays"
   ]
  }
 ],
 "metadata": {
  "kernelspec": {
   "display_name": "Python 3",
   "language": "python",
   "name": "python3"
  },
  "language_info": {
   "codemirror_mode": {
    "name": "ipython",
    "version": 3
   },
   "file_extension": ".py",
   "mimetype": "text/x-python",
   "name": "python",
   "nbconvert_exporter": "python",
   "pygments_lexer": "ipython3",
   "version": "3.7.6"
  }
 },
 "nbformat": 4,
 "nbformat_minor": 4
}
