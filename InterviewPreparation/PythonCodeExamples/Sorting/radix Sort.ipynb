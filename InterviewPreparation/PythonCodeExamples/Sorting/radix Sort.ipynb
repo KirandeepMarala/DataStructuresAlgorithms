{
 "cells": [
  {
   "cell_type": "markdown",
   "metadata": {},
   "source": [
    "# Radix Sort"
   ]
  },
  {
   "cell_type": "markdown",
   "metadata": {},
   "source": [
    "- Counting Sort on Unit Digits, tens Digits, hundreds Digit and keep going\n",
    "- Counting Sort is Stable and that's core of working like this"
   ]
  },
  {
   "cell_type": "markdown",
   "metadata": {},
   "source": [
    "- If the number of digits not the same then also. We can replace the extra digits will be zero. We can use counting sort and radix sort negative numbers also."
   ]
  },
  {
   "cell_type": "markdown",
   "metadata": {},
   "source": [
    "- One way you can handle such cases is by doing a manual mapping.Say you have array elements as : -9, 1, 2, 7, 3, 6, -1 The most negative element is -9. So take index for -9 as 0(ie. -9+ 9) Take index for 1 as 1+9=10 index for 2 as 2+9=11 and so on. So by doing such index manipulation you can handle the negative numbers."
   ]
  },
  {
   "cell_type": "code",
   "execution_count": 7,
   "metadata": {},
   "outputs": [
    {
     "name": "stdout",
     "output_type": "stream",
     "text": [
      "array Before Sorting:  [121, 432, 564, 23, 1, 45, 788]\n",
      "Array After SOrting:  [1, 23, 45, 121, 432, 564, 788]\n"
     ]
    }
   ],
   "source": [
    "def countingsort(arr, place):\n",
    "    n = len(arr)\n",
    "    count = [0] * 10   #contain elements between [0 - 9]\n",
    "    result = [0] * n\n",
    "    \n",
    "    #calculate count of each element\n",
    "    for i in range(n):\n",
    "        index = arr[i] // place\n",
    "        count[index % 10] += 1\n",
    "    \n",
    "    #calculate cummulative sum\n",
    "    for i in range(1, 10):\n",
    "        count[i] += count[i-1]\n",
    "    \n",
    "    #place the elements in sorted order\n",
    "    i = n-1\n",
    "    while i >= 0:\n",
    "        index = arr[i] // place\n",
    "        result[count[index%10] - 1] = arr[i]\n",
    "        count[index%10] -= 1\n",
    "        i -= 1\n",
    "\n",
    "    for i in range(n):\n",
    "        arr[i] = result[i]\n",
    "        \n",
    "\n",
    "\n",
    "def radix_sort(arr):\n",
    "    #find maximum element in the array to count number of position\n",
    "    max_element = max(arr)\n",
    "    #applying counting sort to sort elements based on place value\n",
    "    place = 1\n",
    "    while max_element // place > 0:\n",
    "        countingsort(arr, place)  \n",
    "        place *= 10\n",
    "\n",
    "\n",
    "#Step: 1  ===> Find the largest element in the Array so that we can\n",
    "#iterate that many digits numbers [units, tens, hundreds] and sort respectively\n",
    "\n",
    "\n",
    "arr = [121, 432, 564, 23, 1, 45, 788]  # n = 7\n",
    "print(\"array Before Sorting: \", arr)\n",
    "radix_sort(arr)\n",
    "print(\"Array After SOrting: \", arr)"
   ]
  },
  {
   "cell_type": "code",
   "execution_count": null,
   "metadata": {},
   "outputs": [],
   "source": []
  },
  {
   "cell_type": "markdown",
   "metadata": {},
   "source": [
    "\n",
    "### time complexity: O(d * k * n)\n",
    "- Here d(no of digits in largest integer) and k(0-9)"
   ]
  },
  {
   "cell_type": "markdown",
   "metadata": {},
   "source": [
    "#### Space is: (n+k)\n",
    "- Where n is the Number of elements to sort and k is the number of Distinct elements "
   ]
  }
 ],
 "metadata": {
  "kernelspec": {
   "display_name": "Python 3",
   "language": "python",
   "name": "python3"
  },
  "language_info": {
   "codemirror_mode": {
    "name": "ipython",
    "version": 3
   },
   "file_extension": ".py",
   "mimetype": "text/x-python",
   "name": "python",
   "nbconvert_exporter": "python",
   "pygments_lexer": "ipython3",
   "version": "3.7.6"
  }
 },
 "nbformat": 4,
 "nbformat_minor": 4
}
