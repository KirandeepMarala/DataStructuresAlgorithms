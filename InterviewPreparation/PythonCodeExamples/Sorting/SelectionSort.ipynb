{
 "cells": [
  {
   "cell_type": "markdown",
   "metadata": {},
   "source": [
    "# SelectionSort"
   ]
  },
  {
   "cell_type": "markdown",
   "metadata": {},
   "source": [
    "- Inplace Sorting Algorithm"
   ]
  },
  {
   "cell_type": "code",
   "execution_count": 6,
   "metadata": {},
   "outputs": [
    {
     "name": "stdout",
     "output_type": "stream",
     "text": [
      "Elements Before Sorting:  [10, 1, 2, 20, 5]\n",
      "Elements After Sorting:  [1, 2, 5, 10, 20]\n"
     ]
    }
   ],
   "source": [
    "def selectionSort(arr):\n",
    "    for i in range(0, len(arr)-1):\n",
    "        min_ele_index = i\n",
    "        for j in range(i+1, len(arr)):\n",
    "            if arr[j] < arr[min_ele_index]:\n",
    "                min_ele_index = j\n",
    "        \n",
    "        #swapping elements\n",
    "        arr[i], arr[min_ele_index] = arr[min_ele_index], arr[i]\n",
    "        \n",
    "\n",
    "arr = [10, 1, 2, 20, 5]\n",
    "print(\"Elements Before Sorting: \", arr)\n",
    "selectionSort(arr)\n",
    "print(\"Elements After Sorting: \", arr)"
   ]
  },
  {
   "cell_type": "markdown",
   "metadata": {},
   "source": [
    "## TimeComplexity:"
   ]
  },
  {
   "cell_type": "markdown",
   "metadata": {},
   "source": [
    "#### only have Worst Case: \n",
    "     \n",
    "####     O(n**2) comparisons O(n) Swaps"
   ]
  },
  {
   "cell_type": "markdown",
   "metadata": {},
   "source": [
    "### SpaceComplexity¶"
   ]
  },
  {
   "cell_type": "markdown",
   "metadata": {},
   "source": [
    "#### As it is inplace Sorting Algorithm, Takes Constant space only O(1)"
   ]
  }
 ],
 "metadata": {
  "kernelspec": {
   "display_name": "Python 3",
   "language": "python",
   "name": "python3"
  },
  "language_info": {
   "codemirror_mode": {
    "name": "ipython",
    "version": 3
   },
   "file_extension": ".py",
   "mimetype": "text/x-python",
   "name": "python",
   "nbconvert_exporter": "python",
   "pygments_lexer": "ipython3",
   "version": "3.7.6"
  }
 },
 "nbformat": 4,
 "nbformat_minor": 4
}
