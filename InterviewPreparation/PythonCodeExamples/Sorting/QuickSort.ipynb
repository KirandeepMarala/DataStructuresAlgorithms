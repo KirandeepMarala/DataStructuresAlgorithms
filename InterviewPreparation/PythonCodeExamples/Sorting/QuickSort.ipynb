{
 "cells": [
  {
   "cell_type": "markdown",
   "metadata": {},
   "source": [
    "## Quick Sort"
   ]
  },
  {
   "cell_type": "markdown",
   "metadata": {},
   "source": [
    "- Core here is Partitioning the given array using Pivot Element\n",
    "- Divide and Conquer Algorithm"
   ]
  },
  {
   "cell_type": "code",
   "execution_count": 3,
   "metadata": {},
   "outputs": [
    {
     "name": "stdout",
     "output_type": "stream",
     "text": [
      "Elements Before Sorting:  [54, 26, 93, 17, 77, 31, 44, 55]\n",
      "Elements After Sorting:  [17, 26, 31, 44, 54, 55, 77, 93]\n"
     ]
    }
   ],
   "source": [
    "def partition(arr, p, r):\n",
    "    #choose pivot element\n",
    "    pivot = arr[p]\n",
    "    i = p\n",
    "    for j in range(p+1, r+1):\n",
    "        if arr[j] < pivot:\n",
    "            i += 1\n",
    "            arr[i], arr[j] = arr[j], arr[i]\n",
    "            \n",
    "    #placing pivot at the correct Place\n",
    "    arr[p], arr[i] = arr[i], arr[p]\n",
    "    return i\n",
    "\n",
    "def QuickSort(arr, p, r):\n",
    "    if p < r:\n",
    "        #get the index of Pivot element\n",
    "        q = partition(arr, p, r)\n",
    "        QuickSort(arr, p, q-1)\n",
    "        QuickSort(arr, q+1, r)\n",
    "        \n",
    "        \n",
    "arr = [54, 26, 93, 17, 77, 31, 44, 55]\n",
    "print(\"Elements Before Sorting: \", arr)\n",
    "QuickSort(arr, 0, len(arr)-1)\n",
    "print(\"Elements After Sorting: \", arr)"
   ]
  },
  {
   "cell_type": "markdown",
   "metadata": {},
   "source": [
    "## TimeComplexity:"
   ]
  },
  {
   "cell_type": "markdown",
   "metadata": {},
   "source": [
    "#### O(nlog(n)) in Best Case\n",
    "#### O(n**2) in Worst Case ===> when all elements are already sorted"
   ]
  },
  {
   "cell_type": "markdown",
   "metadata": {},
   "source": [
    "## SpaceComplexity"
   ]
  },
  {
   "cell_type": "markdown",
   "metadata": {},
   "source": [
    "#### Space is O(1) because of inplace Sorting Algorithm "
   ]
  }
 ],
 "metadata": {
  "kernelspec": {
   "display_name": "Python 3",
   "language": "python",
   "name": "python3"
  },
  "language_info": {
   "codemirror_mode": {
    "name": "ipython",
    "version": 3
   },
   "file_extension": ".py",
   "mimetype": "text/x-python",
   "name": "python",
   "nbconvert_exporter": "python",
   "pygments_lexer": "ipython3",
   "version": "3.7.6"
  }
 },
 "nbformat": 4,
 "nbformat_minor": 4
}
