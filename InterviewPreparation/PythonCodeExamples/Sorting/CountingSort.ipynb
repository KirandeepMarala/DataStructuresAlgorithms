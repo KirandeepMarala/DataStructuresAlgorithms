{
 "cells": [
  {
   "cell_type": "markdown",
   "metadata": {},
   "source": [
    "# CountingSort"
   ]
  },
  {
   "cell_type": "markdown",
   "metadata": {},
   "source": [
    "- Non Comparison Based Sorting Technique"
   ]
  },
  {
   "cell_type": "code",
   "execution_count": 3,
   "metadata": {},
   "outputs": [
    {
     "name": "stdout",
     "output_type": "stream",
     "text": [
      "Array Before Sorting:  [4, 2, 2, 5, 3, 3, 1]\n",
      "Array after Sorting:  [1, 2, 2, 3, 3, 4, 5]\n"
     ]
    }
   ],
   "source": [
    "def countingsort(arr):\n",
    "    n = len(arr)\n",
    "    \n",
    "    #creating Auxillary Array\n",
    "    max_ele = max(arr)\n",
    "    count = [0] * (max_ele + 1)\n",
    "    \n",
    "    #to store resultant Array\n",
    "    result = [0] * n\n",
    "    \n",
    "    #Step: 1 ====> Store the count of each element in count array\n",
    "    for i in range(n):\n",
    "        count[arr[i]] += 1\n",
    "    \n",
    "    #Step: 2 ====> Store commulative Sum of count array\n",
    "    for i in range(1, max_ele + 1):\n",
    "        count[i] += count[i-1]\n",
    "        \n",
    "    #Step:3  ====> Find the index of each element of the original array \n",
    "    #array in count array and place the elements in the resultant array\n",
    "    i = n-1\n",
    "    while i >= 0:\n",
    "        result[count[arr[i]] -1] = arr[i]\n",
    "        count[arr[i]] -= 1\n",
    "        i -= 1\n",
    "    return result\n",
    "\n",
    "\n",
    "\n",
    "arr = [4, 2, 2, 5, 3, 3, 1]\n",
    "print(\"Array Before Sorting: \", arr)\n",
    "result = countingsort(arr)\n",
    "print(\"Array after Sorting: \", result)        "
   ]
  },
  {
   "cell_type": "markdown",
   "metadata": {},
   "source": [
    "### Time Complexity"
   ]
  },
  {
   "cell_type": "markdown",
   "metadata": {},
   "source": [
    "#### Worst and Best Case: O(n)\n",
    "\n",
    "- in actual : O(k) + O(n) + O(k) + O(n) = O(n + k).\n",
    "- If k == n, then O(2*n) ===> O(n)"
   ]
  },
  {
   "cell_type": "markdown",
   "metadata": {},
   "source": [
    "### Space Complexity"
   ]
  },
  {
   "cell_type": "markdown",
   "metadata": {},
   "source": [
    "#### Space is: (n+k)\n",
    "- Where n is the Number of elements to sort and k is the number of Distinct elements "
   ]
  }
 ],
 "metadata": {
  "kernelspec": {
   "display_name": "Python 3",
   "language": "python",
   "name": "python3"
  },
  "language_info": {
   "codemirror_mode": {
    "name": "ipython",
    "version": 3
   },
   "file_extension": ".py",
   "mimetype": "text/x-python",
   "name": "python",
   "nbconvert_exporter": "python",
   "pygments_lexer": "ipython3",
   "version": "3.7.6"
  }
 },
 "nbformat": 4,
 "nbformat_minor": 4
}
