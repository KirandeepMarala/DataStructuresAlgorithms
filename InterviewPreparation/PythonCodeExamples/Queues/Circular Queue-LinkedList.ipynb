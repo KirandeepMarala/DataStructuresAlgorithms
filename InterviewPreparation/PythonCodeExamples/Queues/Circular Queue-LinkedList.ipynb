{
 "cells": [
  {
   "cell_type": "markdown",
   "metadata": {},
   "source": [
    "# Circular Queue-LinkedList"
   ]
  },
  {
   "cell_type": "markdown",
   "metadata": {},
   "source": [
    "- Enqueue\n",
    "- Dequeue"
   ]
  },
  {
   "cell_type": "markdown",
   "metadata": {},
   "source": [
    "- Insert Element at the rare end\n",
    "- Delete Element from the front end"
   ]
  },
  {
   "cell_type": "markdown",
   "metadata": {},
   "source": [
    "#### Visualize the things in Diagramatic representation"
   ]
  },
  {
   "cell_type": "code",
   "execution_count": 3,
   "metadata": {},
   "outputs": [],
   "source": [
    "class Node:\n",
    "    def __init__(self, info, next = None):\n",
    "        self.info = info\n",
    "        self.next = next"
   ]
  },
  {
   "cell_type": "code",
   "execution_count": 7,
   "metadata": {},
   "outputs": [],
   "source": [
    "class CircularQueue:\n",
    "    def __init__(self):\n",
    "        self.front = self.rear = None\n",
    "        \n",
    "    def enQueue(self, ele):\n",
    "        #create a node\n",
    "        temp = Node(ele)\n",
    "        if self.front == None:\n",
    "            self.front = self.rare = temp\n",
    "            self.rare.next = self.front\n",
    "        else:\n",
    "            self.rare.next = temp\n",
    "            self.rare = temp\n",
    "            self.rare.next = self.front\n",
    "            \n",
    "            \n",
    "    def deQueue(self):\n",
    "        if self.front == None:\n",
    "            print(\"No elements in the List\")\n",
    "            return \n",
    "        #when only one element present\n",
    "        elif self.front == self.rare:\n",
    "            self.front = self.rare = None            \n",
    "        else:\n",
    "            self.rare.next = self.front.next\n",
    "            self.front = self.front.next\n",
    "            \n",
    "    def display(self):\n",
    "        current = self.front\n",
    "        while current.next != self.front:\n",
    "            print(current.info)\n",
    "            current = current.next\n",
    "        print(current.info)            "
   ]
  },
  {
   "cell_type": "code",
   "execution_count": 8,
   "metadata": {},
   "outputs": [
    {
     "name": "stdout",
     "output_type": "stream",
     "text": [
      "10\n",
      "20\n",
      "30\n",
      "40\n",
      "********************\n",
      "20\n",
      "30\n",
      "40\n",
      "********************\n"
     ]
    }
   ],
   "source": [
    "c = CircularQueue()\n",
    "c.enQueue(10)\n",
    "c.enQueue(20)\n",
    "c.enQueue(30)\n",
    "c.enQueue(40)\n",
    "c.display()\n",
    "print('*' * 20)\n",
    "c.deQueue()\n",
    "c.display()\n",
    "print('*' * 20)\n",
    "c.deQueue()"
   ]
  },
  {
   "cell_type": "markdown",
   "metadata": {},
   "source": [
    "### how is Circular Queue benefitting us,when we have the Queue singly linked list?"
   ]
  },
  {
   "cell_type": "markdown",
   "metadata": {},
   "source": [
    "The circular queue will be useful for operating CPU scheduling. \n",
    "CPU Scheduling: Operating system process that requires some event to occur or for some other processes to complete for execution is often maintained in a circular queue so that they execute one after the other when all the conditions are met or when all events occur."
   ]
  }
 ],
 "metadata": {
  "kernelspec": {
   "display_name": "Python 3",
   "language": "python",
   "name": "python3"
  },
  "language_info": {
   "codemirror_mode": {
    "name": "ipython",
    "version": 3
   },
   "file_extension": ".py",
   "mimetype": "text/x-python",
   "name": "python",
   "nbconvert_exporter": "python",
   "pygments_lexer": "ipython3",
   "version": "3.7.6"
  }
 },
 "nbformat": 4,
 "nbformat_minor": 4
}
