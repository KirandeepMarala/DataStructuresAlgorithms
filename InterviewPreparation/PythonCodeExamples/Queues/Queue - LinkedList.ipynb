{
 "cells": [
  {
   "cell_type": "markdown",
   "metadata": {},
   "source": [
    "# Queue - LinkedList"
   ]
  },
  {
   "cell_type": "markdown",
   "metadata": {},
   "source": [
    "- Enqueue\n",
    "- Dequeue"
   ]
  },
  {
   "cell_type": "markdown",
   "metadata": {},
   "source": [
    "- Insert Element at the rare end\n",
    "- Delete Element from the front end"
   ]
  },
  {
   "cell_type": "code",
   "execution_count": 6,
   "metadata": {},
   "outputs": [
    {
     "name": "stdout",
     "output_type": "stream",
     "text": [
      "10\n",
      "20\n",
      "30\n",
      "********************\n",
      "20\n",
      "30\n",
      "********************\n"
     ]
    }
   ],
   "source": [
    "class Node:\n",
    "    def __init__(self, info, next = None):\n",
    "        self.info = info\n",
    "        self.next = next\n",
    "        \n",
    "        \n",
    "class Queue:\n",
    "    def __init__(self):\n",
    "        self.front = self.rear = None\n",
    "        \n",
    "    def isEmpty(self):\n",
    "        return self.front == None\n",
    "    \n",
    "    def EnQueue(self, ele):\n",
    "        temp = Node(ele)\n",
    "        if self.rear == None:\n",
    "            self.rear = self.front = temp\n",
    "            return \n",
    "        self.rear.next = temp\n",
    "        self.rear = temp\n",
    "        \n",
    "    def DeQueue(self):\n",
    "        if self.isEmpty():\n",
    "            print(\"Queue Empty\")\n",
    "            return \n",
    "        else:\n",
    "            temp = self.front\n",
    "            self.front = temp.next\n",
    "            if self.front == None:\n",
    "                self.rare = None\n",
    "                \n",
    "    \n",
    "    def display(self):\n",
    "        p = self.front\n",
    "        while p != None:\n",
    "            print(p.info)\n",
    "            p = p.next\n",
    "        return\n",
    "    \n",
    "    \n",
    "    \n",
    "                \n",
    "                \n",
    "q = Queue()\n",
    "q.EnQueue(10)\n",
    "q.EnQueue(20)\n",
    "q.EnQueue(30)\n",
    "q.display()\n",
    "print('*' * 20)\n",
    "\n",
    "q.DeQueue()\n",
    "q.display()\n",
    "print('*' * 20)\n"
   ]
  },
  {
   "cell_type": "markdown",
   "metadata": {},
   "source": [
    "### Time Complexity is O(1) for both enqueue and dequeue"
   ]
  }
 ],
 "metadata": {
  "kernelspec": {
   "display_name": "Python 3",
   "language": "python",
   "name": "python3"
  },
  "language_info": {
   "codemirror_mode": {
    "name": "ipython",
    "version": 3
   },
   "file_extension": ".py",
   "mimetype": "text/x-python",
   "name": "python",
   "nbconvert_exporter": "python",
   "pygments_lexer": "ipython3",
   "version": "3.7.6"
  }
 },
 "nbformat": 4,
 "nbformat_minor": 4
}
