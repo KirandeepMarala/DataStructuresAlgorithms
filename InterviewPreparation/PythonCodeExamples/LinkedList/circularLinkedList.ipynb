{
 "cells": [
  {
   "cell_type": "markdown",
   "metadata": {},
   "source": [
    "# Circular LinkedList"
   ]
  },
  {
   "cell_type": "markdown",
   "metadata": {},
   "source": [
    "**1. Write code based on Examples [Best way to practice].**\n",
    "\n",
    "**2. Always write Corner Cases.**\n",
    "\n",
    "**3. Always return if the job of the function over's.**"
   ]
  },
  {
   "cell_type": "code",
   "execution_count": 5,
   "metadata": {},
   "outputs": [],
   "source": [
    "#For creating the Node we use this Function\n",
    "class Node:\n",
    "    #constructor\n",
    "    def __init__(self, info, link = None):\n",
    "        self.info = info\n",
    "        self.link = link"
   ]
  },
  {
   "cell_type": "code",
   "execution_count": 10,
   "metadata": {},
   "outputs": [],
   "source": [
    "#creating the LinkedList class where all operations are done here\n",
    "class CLinkedList:\n",
    "    \n",
    "    #at first creating the head by default\n",
    "    def __init__(self):\n",
    "        self.head = None\n",
    "        \n",
    "    #Function used to insert at the Begining\n",
    "    def insert_at_begining(self, ele):\n",
    "        newNode = Node(ele)\n",
    "        if self.head == None:\n",
    "            self.head = newNode\n",
    "            self.head.next = self.head  #creating the circle\n",
    "        else:\n",
    "            current = self.head\n",
    "            while current.next != self.head:  #But here it is a circular\n",
    "                current = current.next\n",
    "            current.next = newNode\n",
    "            newNode.next = self.head\n",
    "            self.head = newNode\n",
    "            \n",
    "    def insert_at_end(self, ele):\n",
    "        newNode = Node(ele)\n",
    "        \n",
    "        if self.head == None:\n",
    "            self.head = newNode\n",
    "            self.head.next = self.head\n",
    "        else:\n",
    "            current = self.head\n",
    "            while current.next != self.head:\n",
    "                current = current.next          \n",
    "            current.next = newNode\n",
    "            newNode.next = self.head\n",
    "    \n",
    "    def traverse(self):\n",
    "        current = self.head\n",
    "        while current.next != self.head:\n",
    "            print(current.info)\n",
    "            current = current.next\n",
    "        print(current.info)\n",
    "        \n",
    "        \n",
    "    def delete_node(self, ele):\n",
    "        #Check if the linkedlist is empty or not\n",
    "        if self.head == None:\n",
    "            print(\"List is empty\")\n",
    "            return \n",
    "        \n",
    "        #if deleted node is present at first only\n",
    "        if self.head.info == ele:\n",
    "            current = self.head\n",
    "            while current.next != self.head:\n",
    "                current = current.next\n",
    "            current.next = self.head.next\n",
    "            self.head = self.head.next\n",
    "            return\n",
    "        \n",
    "        current = self.head\n",
    "        while current.next != self.head:\n",
    "            if current.next.info == ele:\n",
    "                current.next = current.next.next\n",
    "                return\n",
    "            current = current.next\n",
    "        print(\"Element is not found in the list\")\n",
    "                \n",
    "            \n",
    "        "
   ]
  },
  {
   "cell_type": "code",
   "execution_count": 9,
   "metadata": {},
   "outputs": [
    {
     "name": "stdout",
     "output_type": "stream",
     "text": [
      "5\n",
      "10\n",
      "********************\n",
      "30\n",
      "20\n",
      "5\n",
      "10\n",
      "********************\n"
     ]
    }
   ],
   "source": [
    "l1 = CLinkedList()\n",
    "l1.insert_at_begining(10)\n",
    "l1.insert_at_begining(5)\n",
    "l1.traverse()\n",
    "print('*' * 20)\n",
    "l1.insert_at_begining(20)\n",
    "l1.insert_at_begining(30)\n",
    "l1.traverse()\n",
    "print('*' * 20)"
   ]
  },
  {
   "cell_type": "code",
   "execution_count": 14,
   "metadata": {},
   "outputs": [
    {
     "name": "stdout",
     "output_type": "stream",
     "text": [
      "5\n",
      "10\n",
      "********************\n",
      "30\n",
      "20\n",
      "5\n",
      "10\n",
      "********************\n",
      "30\n",
      "20\n",
      "10\n",
      "********************\n",
      "Element is not found in the list\n"
     ]
    }
   ],
   "source": [
    "l1 = CLinkedList()\n",
    "l1.insert_at_begining(10)\n",
    "l1.insert_at_begining(5)\n",
    "l1.traverse()\n",
    "print('*' * 20)\n",
    "l1.insert_at_begining(20)\n",
    "l1.insert_at_begining(30)\n",
    "l1.traverse()\n",
    "print('*' * 20)\n",
    "l1.delete_node(5)\n",
    "l1.traverse()\n",
    "print('*' * 20)\n",
    "l1.delete_node(55)"
   ]
  },
  {
   "cell_type": "markdown",
   "metadata": {},
   "source": [
    "### Time complexity to insert at beginning or end is O(n)\n",
    "- This is because we have to traverse through entire linked List to change the last node pointer.\n",
    "\n",
    "- this can be changed if we have tail pointer.\n",
    "\n",
    "### Time complexity to delete is O(n)\n"
   ]
  }
 ],
 "metadata": {
  "kernelspec": {
   "display_name": "Python 3",
   "language": "python",
   "name": "python3"
  },
  "language_info": {
   "codemirror_mode": {
    "name": "ipython",
    "version": 3
   },
   "file_extension": ".py",
   "mimetype": "text/x-python",
   "name": "python",
   "nbconvert_exporter": "python",
   "pygments_lexer": "ipython3",
   "version": "3.7.6"
  }
 },
 "nbformat": 4,
 "nbformat_minor": 4
}
