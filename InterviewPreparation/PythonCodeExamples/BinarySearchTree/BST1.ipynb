{
 "cells": [
  {
   "cell_type": "markdown",
   "metadata": {},
   "source": [
    "**Property**"
   ]
  },
  {
   "cell_type": "markdown",
   "metadata": {},
   "source": [
    "- The property of Binary Search Tree is all the left subtree is of a node is less than node and all the right subtree of a node \n",
    "is greater than the node"
   ]
  },
  {
   "cell_type": "markdown",
   "metadata": {},
   "source": [
    "**how to think to write it from scratch??**\n",
    "- Once you understand the concept, if you fix the diagramitic representation in your mind you will easily write the code. Initially we will recommend you to take the paper and draw it and see how it will work "
   ]
  },
  {
   "cell_type": "code",
   "execution_count": 1,
   "metadata": {},
   "outputs": [],
   "source": [
    "class Node:\n",
    "    def __init__(self, data):\n",
    "        self.data = data\n",
    "        self.left = None\n",
    "        self.right = None\n",
    "        "
   ]
  },
  {
   "cell_type": "code",
   "execution_count": 4,
   "metadata": {},
   "outputs": [
    {
     "name": "stdout",
     "output_type": "stream",
     "text": [
      "2\n",
      "5\n",
      "7\n",
      "10\n",
      "25\n",
      "30\n"
     ]
    }
   ],
   "source": [
    "#Using Recursion\n",
    "class BST:\n",
    "    \n",
    "    def buildBst(self, root, ele):\n",
    "        #base condition\n",
    "        if root == None:\n",
    "            return Node(ele)\n",
    "        if ele < root.data:\n",
    "            root.left = self.buildBst(root.left, ele)\n",
    "        else:\n",
    "            root.right = self.buildBst(root.right, ele)\n",
    "        return root\n",
    "    \n",
    "    def inorder(self,root):\n",
    "        if root == None:\n",
    "            return \n",
    "        self.inorder(root.left)\n",
    "        print(root.data)\n",
    "        self.inorder(root.right)\n",
    "       \n",
    "    \n",
    "root = None\n",
    "b = BST()\n",
    "for ele in [10, 5, 25, 2, 7, 30]:\n",
    "    root = b.buildBst(root, ele)\n",
    " \n",
    "b.inorder(root)"
   ]
  },
  {
   "cell_type": "markdown",
   "metadata": {},
   "source": [
    "#### Time Complexity: Best Case: O(nlog(n)) and worst case: O(n**2)\n",
    "\n",
    "Best Case ==> When binary search Tree is well balanced\n",
    "worst case ==> Skewed left or right"
   ]
  },
  {
   "cell_type": "markdown",
   "metadata": {},
   "source": [
    "### The space complexity incase of inorder traversal recursive\n",
    "\n",
    "- The worst case space required is O(n), and in the average case it's O(logn) where n is number of nodes."
   ]
  },
  {
   "cell_type": "code",
   "execution_count": null,
   "metadata": {},
   "outputs": [],
   "source": []
  },
  {
   "cell_type": "code",
   "execution_count": 14,
   "metadata": {},
   "outputs": [
    {
     "name": "stdout",
     "output_type": "stream",
     "text": [
      "narik\n"
     ]
    }
   ],
   "source": [
    "#reverse a string using recurssion\n",
    "\n",
    "\n",
    "def reverse(string, length):\n",
    "    s = ''\n",
    "    index = length - 1\n",
    "    #base case\n",
    "    if index == 0:\n",
    "        return string[index]\n",
    "    else:\n",
    "        return string[index] +  reverse(string, length-1)\n",
    "    \n",
    "    \n",
    "print(reverse('kiran', len('kiran')))"
   ]
  },
  {
   "cell_type": "code",
   "execution_count": null,
   "metadata": {},
   "outputs": [],
   "source": []
  }
 ],
 "metadata": {
  "kernelspec": {
   "display_name": "Python 3",
   "language": "python",
   "name": "python3"
  },
  "language_info": {
   "codemirror_mode": {
    "name": "ipython",
    "version": 3
   },
   "file_extension": ".py",
   "mimetype": "text/x-python",
   "name": "python",
   "nbconvert_exporter": "python",
   "pygments_lexer": "ipython3",
   "version": "3.7.6"
  }
 },
 "nbformat": 4,
 "nbformat_minor": 4
}
