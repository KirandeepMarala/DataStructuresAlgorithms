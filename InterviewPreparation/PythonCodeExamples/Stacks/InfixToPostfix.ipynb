{
 "cells": [
  {
   "cell_type": "markdown",
   "metadata": {},
   "source": [
    "# InfixToPostfix"
   ]
  },
  {
   "cell_type": "code",
   "execution_count": 1,
   "metadata": {},
   "outputs": [],
   "source": [
    "class Conversion:\n",
    "    def __init__(self):\n",
    "        self.stack = []\n",
    "        self.result = []\n",
    "        self.precedence = {'(' : 0, '+': 1, '-': 1, '*': 2, '/': 2, '^': 3}\n",
    "        \n",
    "    def push(self, c):\n",
    "        self.stack.append(c)\n",
    "        \n",
    "    def isEmpty(self):\n",
    "        return self.stack == []\n",
    "        \n",
    "    def peek(self):\n",
    "        if not self.isEmpty():\n",
    "            return self.stack[-1]\n",
    "        else:\n",
    "            return '$'\n",
    "        \n",
    "    def pop(self):\n",
    "        if not self.isEmpty():\n",
    "            return self.stack.pop()\n",
    "        else:\n",
    "            return '$'\n",
    "        \n",
    "    def notGreater(self, c):\n",
    "        \n",
    "        try: \n",
    "            a = self.precedence[self.peek()]\n",
    "            b = self.precedence[c]\n",
    "\n",
    "            return True if a >= b else False\n",
    "        except KeyError:\n",
    "            return False\n",
    "        \n",
    "    def infixToPostfix(self, exp):\n",
    "        \n",
    "        #iterating through every character and checking\n",
    "        for c in exp:\n",
    "            if c.isalnum():\n",
    "                self.result.append(c)\n",
    "            elif c == '(':\n",
    "                self.push(c)\n",
    "            elif c == ')':\n",
    "                x = self.pop()\n",
    "                while x != '(':\n",
    "                    self.result.append(x)\n",
    "                    x = self.pop()\n",
    "            else:\n",
    "                while (not self.isEmpty() and self.notGreater(c)):\n",
    "                    self.result.append(self.pop())\n",
    "                self.push(c)\n",
    "        \n",
    "        while not self.isEmpty():\n",
    "            self.result.append(self.pop())\n",
    "        \n",
    "        result = \"\".join(self.result)\n",
    "        \n",
    "        return result"
   ]
  },
  {
   "cell_type": "code",
   "execution_count": 4,
   "metadata": {},
   "outputs": [
    {
     "name": "stdout",
     "output_type": "stream",
     "text": [
      "23*456-*+\n"
     ]
    }
   ],
   "source": [
    "c = Conversion()\n",
    "result = c.infixToPostfix(\"(2*3+4*(5-6))\")\n",
    "print(result)"
   ]
  },
  {
   "cell_type": "code",
   "execution_count": 7,
   "metadata": {},
   "outputs": [
    {
     "name": "stdout",
     "output_type": "stream",
     "text": [
      "643**2+\n"
     ]
    }
   ],
   "source": [
    "c = Conversion()\n",
    "result = c.infixToPostfix(\"(6*(4*3)+2)\")\n",
    "print(result)"
   ]
  },
  {
   "cell_type": "markdown",
   "metadata": {},
   "source": [
    "### Time complexity is O(n)\n",
    "### Space complexity is O(n)"
   ]
  }
 ],
 "metadata": {
  "kernelspec": {
   "display_name": "Python 3",
   "language": "python",
   "name": "python3"
  },
  "language_info": {
   "codemirror_mode": {
    "name": "ipython",
    "version": 3
   },
   "file_extension": ".py",
   "mimetype": "text/x-python",
   "name": "python",
   "nbconvert_exporter": "python",
   "pygments_lexer": "ipython3",
   "version": "3.7.6"
  }
 },
 "nbformat": 4,
 "nbformat_minor": 4
}
