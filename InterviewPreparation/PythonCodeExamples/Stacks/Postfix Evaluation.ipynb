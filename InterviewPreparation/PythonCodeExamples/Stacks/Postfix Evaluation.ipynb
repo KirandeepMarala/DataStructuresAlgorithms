{
 "cells": [
  {
   "cell_type": "markdown",
   "metadata": {},
   "source": [
    "# Postfix Evaluation"
   ]
  },
  {
   "cell_type": "code",
   "execution_count": 62,
   "metadata": {},
   "outputs": [],
   "source": [
    "class PostfixEvaluation:\n",
    "    \n",
    "    def __init__(self):\n",
    "        self.stack = []\n",
    "        \n",
    "    def isEmpty(self):\n",
    "        return self.stack == []\n",
    "    \n",
    "    def push(self, op):\n",
    "        self.stack.append(op)\n",
    "    \n",
    "    def pop(self):\n",
    "        if not self.isEmpty():\n",
    "            return self.stack.pop()\n",
    "        else:\n",
    "            return '$'\n",
    "        \n",
    "    def evaluatePostfix(self, exp):\n",
    "        for c in exp:\n",
    "            if c.isdigit() or c == ' ':\n",
    "                self.push(c)\n",
    "            else:\n",
    "                a = self.pop()\n",
    "                if a == ' ':\n",
    "                    i = 0\n",
    "                    while i < 2:\n",
    "                        a = a + self.pop()\n",
    "                        i += 1\n",
    "                        \n",
    "                    a = a[: : -1]\n",
    "                b = self.pop()\n",
    "                if b == ' ':\n",
    "                    i = 0\n",
    "                    while i < 2:\n",
    "                        b = b + self.pop()\n",
    "                        i += 1\n",
    "                    b = b[: : -1]\n",
    "                    \n",
    "                print(a, b)\n",
    "                self.push(str(eval(b + c + a)))\n",
    "        return int(self.pop())"
   ]
  },
  {
   "cell_type": "code",
   "execution_count": 63,
   "metadata": {},
   "outputs": [
    {
     "name": "stdout",
     "output_type": "stream",
     "text": [
      "20  10 \n",
      "9 200\n",
      "209\n"
     ]
    }
   ],
   "source": [
    "e = PostfixEvaluation()\n",
    "\n",
    "print(e.evaluatePostfix('10 20 *9+'))"
   ]
  },
  {
   "cell_type": "code",
   "execution_count": 64,
   "metadata": {},
   "outputs": [
    {
     "name": "stdout",
     "output_type": "stream",
     "text": [
      "4 3\n",
      "6 12\n",
      "72 2\n",
      "74\n"
     ]
    }
   ],
   "source": [
    "e = PostfixEvaluation()\n",
    "\n",
    "print(e.evaluatePostfix('234*6*+'))"
   ]
  },
  {
   "cell_type": "code",
   "execution_count": 65,
   "metadata": {},
   "outputs": [
    {
     "name": "stdout",
     "output_type": "stream",
     "text": [
      "1 3\n",
      "3 2\n",
      "9 5\n",
      "-4\n"
     ]
    }
   ],
   "source": [
    "e = PostfixEvaluation()\n",
    "\n",
    "print(e.evaluatePostfix('231*+9-'))"
   ]
  },
  {
   "cell_type": "markdown",
   "metadata": {},
   "source": [
    "### Time Complexity: O(n)\n",
    "### Space Complexity: O(n)"
   ]
  },
  {
   "cell_type": "code",
   "execution_count": null,
   "metadata": {},
   "outputs": [],
   "source": []
  },
  {
   "cell_type": "markdown",
   "metadata": {},
   "source": [
    "# Prefix Evaluation"
   ]
  },
  {
   "cell_type": "code",
   "execution_count": 81,
   "metadata": {},
   "outputs": [],
   "source": [
    "class PrefixEvaluation:\n",
    "    \n",
    "    def __init__(self):\n",
    "        self.stack = []\n",
    "        \n",
    "    def isEmpty(self):\n",
    "        return self.stack == []\n",
    "    \n",
    "    def push(self, op):\n",
    "        self.stack.append(op)\n",
    "    \n",
    "    def pop(self):\n",
    "        if not self.isEmpty():\n",
    "            return self.stack.pop()\n",
    "        else:\n",
    "            return '$'\n",
    "        \n",
    "    def evaluatePrefix(self, exp):\n",
    "        \n",
    "        #reversing the whole list \n",
    "        exp = exp[: : -1]\n",
    "        for c in exp:\n",
    "            if c.isdigit():\n",
    "                self.push(c)\n",
    "            else:\n",
    "                a = self.pop()\n",
    "                b = self.pop()\n",
    "                if c == '-':\n",
    "                    self.push(str(eval(a + c + b)))\n",
    "                    continue\n",
    "                self.push(str(eval(b + c + a)))                   \n",
    "        return int(self.pop())"
   ]
  },
  {
   "cell_type": "code",
   "execution_count": 82,
   "metadata": {},
   "outputs": [
    {
     "data": {
      "text/plain": [
       "74"
      ]
     },
     "execution_count": 82,
     "metadata": {},
     "output_type": "execute_result"
    }
   ],
   "source": [
    "e = PrefixEvaluation()\n",
    "e.evaluatePrefix('+2**346')"
   ]
  },
  {
   "cell_type": "code",
   "execution_count": 80,
   "metadata": {},
   "outputs": [
    {
     "data": {
      "text/plain": [
       "8"
      ]
     },
     "execution_count": 80,
     "metadata": {},
     "output_type": "execute_result"
    }
   ],
   "source": [
    "\n",
    "e = PrefixEvaluation()\n",
    "e.evaluatePrefix('*+53-21')\n"
   ]
  }
 ],
 "metadata": {
  "kernelspec": {
   "display_name": "Python 3",
   "language": "python",
   "name": "python3"
  },
  "language_info": {
   "codemirror_mode": {
    "name": "ipython",
    "version": 3
   },
   "file_extension": ".py",
   "mimetype": "text/x-python",
   "name": "python",
   "nbconvert_exporter": "python",
   "pygments_lexer": "ipython3",
   "version": "3.7.6"
  }
 },
 "nbformat": 4,
 "nbformat_minor": 4
}
