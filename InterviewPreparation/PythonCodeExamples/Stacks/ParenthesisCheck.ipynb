{
 "cells": [
  {
   "cell_type": "markdown",
   "metadata": {},
   "source": [
    "# ParenthesisCheck"
   ]
  },
  {
   "cell_type": "code",
   "execution_count": 17,
   "metadata": {},
   "outputs": [
    {
     "name": "stdout",
     "output_type": "stream",
     "text": [
      "Enter the expression: \"(2+3) * 49\"\n",
      "Given expression is balanced\n"
     ]
    }
   ],
   "source": [
    "class Parenthesis:\n",
    "    def __init__(self):\n",
    "        self.stack = []\n",
    "        \n",
    "    def check(self, exp):\n",
    "        for i in range(len(exp)):\n",
    "            \n",
    "            #checking if the element is any of starting braces and appending the,\n",
    "            #into the List\n",
    "            if exp[i] == '(' or exp[i] == '{' or exp[i] == '[':\n",
    "                self.stack.append(exp[i])\n",
    "                continue\n",
    "            #ignoring if elements are other than parenthesis\n",
    "            if exp[i] not in [')', '}', ']']:\n",
    "                continue\n",
    "                \n",
    "            #checking if having any opening elements in the stack\n",
    "            if len(self.stack) == 0:\n",
    "                return False       \n",
    "            \n",
    "            \n",
    "            if exp[i] == ')':\n",
    "                char = self.stack.pop()\n",
    "                if char != '(':\n",
    "                    return False\n",
    "            if exp[i] == '}':\n",
    "                char = self.stack.pop()\n",
    "                if char != '{':\n",
    "                    return False\n",
    "            if exp[i] == ']':\n",
    "                char = self.stack.pop()\n",
    "                if char != '[':\n",
    "                    return False\n",
    "         \n",
    "        #if stack is not empty then there are some elements left and not a valid one\n",
    "        if len(self.stack):\n",
    "            return False\n",
    "        else:\n",
    "            return True\n",
    "                \n",
    "                \n",
    "p = Parenthesis()\n",
    "expr =  input(\"Enter the expression: \")\n",
    "if p.check(expr):\n",
    "    print(\"Given expression is balanced\")\n",
    "else:\n",
    "    print(\"Given Expression is not balanced\")"
   ]
  },
  {
   "cell_type": "code",
   "execution_count": 18,
   "metadata": {},
   "outputs": [
    {
     "name": "stdout",
     "output_type": "stream",
     "text": [
      "Enter the expression: \"{([])}\"\n",
      "Given expression is balanced\n"
     ]
    }
   ],
   "source": [
    "p = Parenthesis()\n",
    "expr =  input(\"Enter the expression: \")\n",
    "if p.check(expr):\n",
    "    print(\"Given expression is balanced\")\n",
    "else:\n",
    "    print(\"Given Expression is not balanced\")"
   ]
  }
 ],
 "metadata": {
  "kernelspec": {
   "display_name": "Python 3",
   "language": "python",
   "name": "python3"
  },
  "language_info": {
   "codemirror_mode": {
    "name": "ipython",
    "version": 3
   },
   "file_extension": ".py",
   "mimetype": "text/x-python",
   "name": "python",
   "nbconvert_exporter": "python",
   "pygments_lexer": "ipython3",
   "version": "3.7.6"
  }
 },
 "nbformat": 4,
 "nbformat_minor": 4
}
