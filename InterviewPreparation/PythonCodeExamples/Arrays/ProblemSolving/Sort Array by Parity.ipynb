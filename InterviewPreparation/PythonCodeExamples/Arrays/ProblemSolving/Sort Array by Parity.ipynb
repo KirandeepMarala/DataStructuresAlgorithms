{
 "cells": [
  {
   "cell_type": "markdown",
   "metadata": {},
   "source": [
    "# Sort Array by Parity"
   ]
  },
  {
   "cell_type": "markdown",
   "metadata": {},
   "source": [
    "**Problem Statement:**\n",
    "\n",
    "- Given an array A of non-negative integers, return an array consisting of all the even elements of A, followed by all the odd elements of A.\n",
    "\n",
    "You may return any answer array that satisfies this condition.\n",
    "\n",
    "Example 1:\n",
    "\n",
    "Input: [3,1,2,4]\n",
    "\n",
    "Output: [2,4,3,1]\n",
    "\n",
    "The outputs [4,2,3,1], [2,4,1,3], and [4,2,1,3] would also be accepted."
   ]
  },
  {
   "cell_type": "code",
   "execution_count": null,
   "metadata": {},
   "outputs": [],
   "source": []
  },
  {
   "cell_type": "markdown",
   "metadata": {},
   "source": [
    "- **Approach-1:**"
   ]
  },
  {
   "cell_type": "code",
   "execution_count": 5,
   "metadata": {},
   "outputs": [
    {
     "name": "stdout",
     "output_type": "stream",
     "text": [
      "[2, 4, 3, 1]\n"
     ]
    }
   ],
   "source": [
    "def get_arrays(arr1):\n",
    "    #for even and odd creating seperate lists\n",
    "    even = []\n",
    "    odd = []\n",
    "    for ele in arr1:\n",
    "        if ele % 2 == 0:\n",
    "            even.append(ele)\n",
    "        else:\n",
    "            odd.append(ele)\n",
    "            \n",
    "    print(even + odd)\n",
    "    \n",
    "arr1 = [3, 1, 2, 4]\n",
    "get_arrays(arr1)"
   ]
  },
  {
   "cell_type": "markdown",
   "metadata": {},
   "source": [
    "### Time complexity: O(n)\n",
    "### Space Complexity: O(n)"
   ]
  },
  {
   "cell_type": "code",
   "execution_count": null,
   "metadata": {},
   "outputs": [],
   "source": []
  },
  {
   "cell_type": "markdown",
   "metadata": {},
   "source": [
    "- **Approach-2:**"
   ]
  },
  {
   "cell_type": "markdown",
   "metadata": {},
   "source": [
    "- Inplace we are performing the operations"
   ]
  },
  {
   "cell_type": "code",
   "execution_count": null,
   "metadata": {},
   "outputs": [],
   "source": [
    "- we will use 'i' and 'j' pointers at front and last respectively.\n",
    "- if we get the odd element, swap the i and j element and decrement j--.\n",
    "- If we get even element, increment i++.\n",
    "- repeat this until i < j."
   ]
  },
  {
   "cell_type": "code",
   "execution_count": 7,
   "metadata": {},
   "outputs": [
    {
     "name": "stdout",
     "output_type": "stream",
     "text": [
      "[4, 2, 1, 3]\n"
     ]
    }
   ],
   "source": [
    "def get_arrays(arr):\n",
    "    #defining the pointers\n",
    "    i = 0\n",
    "    j = len(arr) - 1\n",
    "    \n",
    "    while i < j:\n",
    "        if arr[i] % 2 != 0:\n",
    "            #swap a[i], a[j]\n",
    "            arr[i], arr[j] = arr[j], arr[i]\n",
    "            j -= 1\n",
    "        else:\n",
    "            i += 1\n",
    "    print(arr)\n",
    "    \n",
    "\n",
    "    \n",
    "arr1 = [3, 1, 2, 4]\n",
    "get_arrays(arr1)           "
   ]
  },
  {
   "cell_type": "markdown",
   "metadata": {},
   "source": [
    "### Time complexity: O(n)\n",
    "### Space Complexity: O(1)"
   ]
  }
 ],
 "metadata": {
  "kernelspec": {
   "display_name": "Python 3",
   "language": "python",
   "name": "python3"
  },
  "language_info": {
   "codemirror_mode": {
    "name": "ipython",
    "version": 3
   },
   "file_extension": ".py",
   "mimetype": "text/x-python",
   "name": "python",
   "nbconvert_exporter": "python",
   "pygments_lexer": "ipython3",
   "version": "3.7.6"
  }
 },
 "nbformat": 4,
 "nbformat_minor": 4
}
