{
 "cells": [
  {
   "cell_type": "markdown",
   "metadata": {},
   "source": [
    "# Find Majority Element in an array"
   ]
  },
  {
   "cell_type": "markdown",
   "metadata": {},
   "source": [
    "- Given an array of size n, find the majority element. The majority element is the element that appears more than ⌊ n/2 ⌋ times.\n",
    "\n",
    "- You may assume that the array is non-empty and the majority element always exist in the array."
   ]
  },
  {
   "cell_type": "markdown",
   "metadata": {},
   "source": [
    "Example 1:\n",
    "\n",
    "Input: [3,2,3]\n",
    "\n",
    "Output: 3\n",
    "\n",
    "Example 2:\n",
    "\n",
    "Input: [2,2,1,1,1,2,2]\n",
    "\n",
    "Output: 2"
   ]
  },
  {
   "cell_type": "code",
   "execution_count": null,
   "metadata": {},
   "outputs": [],
   "source": []
  },
  {
   "cell_type": "markdown",
   "metadata": {},
   "source": [
    "#### Approach-1: Naive Solution\n"
   ]
  },
  {
   "cell_type": "code",
   "execution_count": 4,
   "metadata": {},
   "outputs": [
    {
     "name": "stdout",
     "output_type": "stream",
     "text": [
      "Majority Element:  2\n",
      "Majority Element:  3\n"
     ]
    }
   ],
   "source": [
    "def count_sort(arr):\n",
    "    n = len(arr)\n",
    "    \n",
    "    #creating Auxillary Array\n",
    "    max_ele = max(arr)\n",
    "    count = [0] * (max_ele + 1)\n",
    "    \n",
    "    #Step: 1 ====> Store the count of each element in count array\n",
    "    for i in range(n):\n",
    "        count[arr[i]] += 1\n",
    "        \n",
    "    #getting the maximum element index in the Array\n",
    "    max_element_count = max(count)\n",
    "    \n",
    "    if max_element_count > len(arr) / 2:\n",
    "        max_element = count.index(max_element_count)\n",
    "        return max_element\n",
    "    else:\n",
    "        return None\n",
    "    \n",
    "arr = [2,2,1,1,1,2,2]\n",
    "print(\"Majority Element: \", count_sort(arr))\n",
    "\n",
    "arr = [3,2,3]\n",
    "print(\"Majority Element: \", count_sort(arr))"
   ]
  },
  {
   "cell_type": "markdown",
   "metadata": {},
   "source": [
    "#### Time and Space Complexity: \n",
    "\n",
    "#### Time: O(n)\n",
    "#### Space: O(n)"
   ]
  },
  {
   "cell_type": "code",
   "execution_count": null,
   "metadata": {},
   "outputs": [],
   "source": []
  },
  {
   "cell_type": "markdown",
   "metadata": {},
   "source": [
    "#### Other Approaches are:\n",
    "\n",
    "- First we iterate through each and every element in the Array and find it's count and select the majority Element.\n",
    "  Time Complexity: O(n**2) and Space: O(1)\n",
    "  \n",
    "- we use Hashtable and store the count of each and every element by looping the array and Time is O(n) and space: O(n)\n",
    "  here the Catch is the Space complexity Become Enormous all elements in the array are disticnt."
   ]
  },
  {
   "cell_type": "code",
   "execution_count": null,
   "metadata": {},
   "outputs": [],
   "source": []
  },
  {
   "cell_type": "markdown",
   "metadata": {},
   "source": [
    "#### Best Approach (Boyer - Moore Algorithm)\n"
   ]
  },
  {
   "cell_type": "markdown",
   "metadata": {},
   "source": [
    "#### Procedure: \n",
    "- If the element is same as majority, increment the Count\n",
    "- If the element is not same as majority, decrement the count.\n",
    "- If count is 0, then repace majority element with the present element.\n",
    "\n",
    "- At last find if the count of majority is greater than n / 2 or not, if yes majority is find or else there is no majority."
   ]
  },
  {
   "cell_type": "code",
   "execution_count": 9,
   "metadata": {},
   "outputs": [
    {
     "name": "stdout",
     "output_type": "stream",
     "text": [
      "majority element not found\n",
      "******************************\n",
      "Majority Element is :  2\n",
      "******************************\n",
      "Majority Element is :  3\n",
      "******************************\n"
     ]
    }
   ],
   "source": [
    "def findMajority(arr,n):\n",
    "    m_element=0\n",
    "    count=1\n",
    "    for i in range(n):\n",
    "        if arr[i]==m_element:\n",
    "            count+=1\n",
    "        else:\n",
    "            count-=1\n",
    "        if count==0:\n",
    "            m_element=arr[i]\n",
    "            count+=1\n",
    "    return m_element\n",
    "def isMajority(arr,n,m_element):\n",
    "    count=0\n",
    "    for i in range(n):\n",
    "        if arr[i]==m_element:\n",
    "            count+=1\n",
    "    if count>n/2:\n",
    "        return True\n",
    "    else:\n",
    "        return False\n",
    "\n",
    "    \n",
    "arr=[3, 3, 4, 2, 4, 4, 2, 4]\n",
    "value=findMajority(arr,len(arr))\n",
    "if(isMajority(arr,len(arr),value)):\n",
    "    print(\"Majority Element is : \", value)\n",
    "else:\n",
    "    print(\"majority element not found\")\n",
    "    \n",
    "print('*' * 30)\n",
    "    \n",
    "arr = [2,2,1,1,1,2,2]\n",
    "value=findMajority(arr,len(arr))\n",
    "if(isMajority(arr,len(arr),value)):\n",
    "    print(\"Majority Element is : \", value)\n",
    "else:\n",
    "    print(\"majority element not found\")\n",
    "\n",
    "print('*' * 30)\n",
    "    \n",
    "arr = [3,2,3]\n",
    "value=findMajority(arr,len(arr))\n",
    "if(isMajority(arr,len(arr),value)):\n",
    "    print(\"Majority Element is : \", value)\n",
    "else:\n",
    "    print(\"majority element not found\")\n",
    "\n",
    "print('*' * 30)"
   ]
  },
  {
   "cell_type": "code",
   "execution_count": null,
   "metadata": {},
   "outputs": [],
   "source": []
  }
 ],
 "metadata": {
  "kernelspec": {
   "display_name": "Python 3",
   "language": "python",
   "name": "python3"
  },
  "language_info": {
   "codemirror_mode": {
    "name": "ipython",
    "version": 3
   },
   "file_extension": ".py",
   "mimetype": "text/x-python",
   "name": "python",
   "nbconvert_exporter": "python",
   "pygments_lexer": "ipython3",
   "version": "3.7.6"
  }
 },
 "nbformat": 4,
 "nbformat_minor": 4
}
