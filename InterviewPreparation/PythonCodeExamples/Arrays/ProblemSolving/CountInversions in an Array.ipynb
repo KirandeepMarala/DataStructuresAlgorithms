{
 "cells": [
  {
   "cell_type": "markdown",
   "metadata": {},
   "source": [
    "# CountInversions in an Array"
   ]
  },
  {
   "cell_type": "markdown",
   "metadata": {},
   "source": [
    "**Problem Statement:**\n",
    "\n",
    "- 1. We have some permutation A of [0, 1, ..., N - 1], where N is the length of A.\n",
    "\n",
    "    The number of (global) inversions is the number of i < j with 0 <= i < j < N and A[i] > A[j].\n",
    "\n",
    "    The number of local inversions is the number of i with 0 <= i < N and A[i] > A[i+1].\n",
    "\n",
    "    Return true if and only if the number of global inversions is equal to the number of local inversions."
   ]
  },
  {
   "cell_type": "markdown",
   "metadata": {},
   "source": [
    "Input: A = [1,0,2]\n",
    "\n",
    "Output: true\n",
    "\n",
    "Explanation: There is 1 global inversion, and 1 local inversion.\n",
    "\n",
    "\n",
    "\n",
    "Example 2:\n",
    "\n",
    "\n",
    "\n",
    "\n",
    "\n",
    "Input: A = [1,2,0]\n",
    "\n",
    "Output: false\n",
    "\n",
    "Explanation: There are 2 global inversions, and 1 local inversion.\n"
   ]
  },
  {
   "cell_type": "code",
   "execution_count": null,
   "metadata": {},
   "outputs": [],
   "source": []
  },
  {
   "cell_type": "markdown",
   "metadata": {},
   "source": [
    "### Approach-1: Brute Force"
   ]
  },
  {
   "cell_type": "code",
   "execution_count": null,
   "metadata": {},
   "outputs": [],
   "source": [
    "- Can be thought as similar to Selection Sort"
   ]
  },
  {
   "cell_type": "code",
   "execution_count": 2,
   "metadata": {},
   "outputs": [
    {
     "name": "stdout",
     "output_type": "stream",
     "text": [
      "2\n"
     ]
    }
   ],
   "source": [
    "def count_inversions(arr):\n",
    "    count = 0\n",
    "    for i in range(0, len(arr)-1):\n",
    "        for j in range(i+1, len(arr)):\n",
    "            if arr[i] > arr[j]:\n",
    "                count += 1\n",
    "    print(count)\n",
    "    \n",
    "arr = [1, 2, 6, 4, 5] \n",
    "count_inversions(arr)"
   ]
  },
  {
   "cell_type": "markdown",
   "metadata": {},
   "source": [
    "### Time complexity: O(n**2)\n",
    "### Space Complexity: O(1)"
   ]
  },
  {
   "cell_type": "code",
   "execution_count": null,
   "metadata": {},
   "outputs": [],
   "source": []
  },
  {
   "cell_type": "markdown",
   "metadata": {},
   "source": [
    "### Approach-2: Using Modified Merge Sort"
   ]
  },
  {
   "cell_type": "code",
   "execution_count": 12,
   "metadata": {},
   "outputs": [
    {
     "name": "stdout",
     "output_type": "stream",
     "text": [
      "2\n"
     ]
    }
   ],
   "source": [
    "def merge(arr,start,end):\n",
    "    inv_count=0\n",
    "    if start < end:\n",
    "        \n",
    "        mid=(start+end)//2\n",
    "        \n",
    "        inv_count+=merge(arr,start,mid)\n",
    "        \n",
    "        inv_count+=merge(arr,mid+1,end)\n",
    "        \n",
    "        inv_count+=mergeAndCount(arr,start,mid,end)\n",
    "        \n",
    "    return inv_count\n",
    "\n",
    "def mergeAndCount(arr,start,mid,end):\n",
    "    \n",
    "    i=start\n",
    "    j=mid+1\n",
    "    k=start\n",
    "    \n",
    "    inv_count=0\n",
    "    temp = [None] * len(arr)\n",
    "    while i<=mid and j<=end:\n",
    "        \n",
    "        if(arr[i] > arr[j]):\n",
    "            temp[k] = arr[j] \n",
    "            inv_count += (mid-i + 1) \n",
    "            k += 1\n",
    "            j += 1\n",
    "        else:\n",
    "            temp[k] = arr[i] \n",
    "            k += 1\n",
    "            i += 1\n",
    "    \n",
    "    while i<=mid:\n",
    "        temp[k] = arr[i] \n",
    "        k += 1\n",
    "        i += 1\n",
    "    \n",
    "    while j<=end:\n",
    "        temp[k] = arr[j] \n",
    "        k += 1\n",
    "        j += 1\n",
    "    \n",
    "    for i in range(start,end+1):\n",
    "        arr[i]=temp[i]\n",
    "        \n",
    "    return inv_count\n",
    "\n",
    "if __name__=='__main__':\n",
    "    arr = [1, 2, 6, 4, 5] \n",
    "    n = len(arr) \n",
    "    count=merge(arr,0,n-1)\n",
    "    print(count)\n"
   ]
  },
  {
   "cell_type": "code",
   "execution_count": 2,
   "metadata": {},
   "outputs": [
    {
     "name": "stdout",
     "output_type": "stream",
     "text": [
      "2\n"
     ]
    }
   ],
   "source": [
    "def merge(arr, left, right):\n",
    "    i = 0\n",
    "    j = 0\n",
    "    \n",
    "    #k for iterating through Entire List\n",
    "    k = 0\n",
    "    inv_count = 0\n",
    "    while i < len(left) and j < len(right):\n",
    "        if left[i] >= right[j]:\n",
    "            arr[k] = right[j]\n",
    "            inv_count +=  (len(left) - i)\n",
    "            j += 1\n",
    "        else:\n",
    "            arr[k] = left[i]\n",
    "            i += 1\n",
    "        k += 1\n",
    "        \n",
    "    #Still some elements left \n",
    "    while i < len(left):\n",
    "        arr[k] = left[i]\n",
    "        i += 1\n",
    "        k += 1\n",
    "    while j < len(right):\n",
    "        arr[k] = right[j]\n",
    "        j += 1\n",
    "        k += 1\n",
    "        \n",
    "    return inv_count\n",
    "\n",
    "\n",
    "\n",
    "def count_inversions(arr):\n",
    "    \n",
    "    inv_count=0\n",
    "    #Splitting the array until get the one element at each list\n",
    "    if len(arr) > 1:\n",
    "        mid = len(arr) // 2  #8/2 = 4\n",
    "        left = arr[: mid]     #Here it takes O(n) space for creating \n",
    "        right = arr[mid: ]    #the extra space for sub arrays\n",
    "        \n",
    "        inv_count += count_inversions(left)       #here dividing happens upto some certain Levels\n",
    "        inv_count += count_inversions(right)      #and that levels depends on log(n)\n",
    "        \n",
    "        #Calling merge function\n",
    "        inv_count += merge(arr, left, right)   #Merge Takes time complexity of O(n)\n",
    "    \n",
    "    return inv_count\n",
    "\n",
    "\n",
    "\n",
    "arr = [1, 2, 6, 4, 5] \n",
    "inv_count = count_inversions(arr)\n",
    "print(inv_count)\n"
   ]
  },
  {
   "cell_type": "markdown",
   "metadata": {},
   "source": [
    "### Time Complexity is similar to O(nlogn) \n",
    "### Space complexity is O(n)"
   ]
  }
 ],
 "metadata": {
  "kernelspec": {
   "display_name": "Python 3",
   "language": "python",
   "name": "python3"
  },
  "language_info": {
   "codemirror_mode": {
    "name": "ipython",
    "version": 3
   },
   "file_extension": ".py",
   "mimetype": "text/x-python",
   "name": "python",
   "nbconvert_exporter": "python",
   "pygments_lexer": "ipython3",
   "version": "3.7.6"
  }
 },
 "nbformat": 4,
 "nbformat_minor": 4
}
