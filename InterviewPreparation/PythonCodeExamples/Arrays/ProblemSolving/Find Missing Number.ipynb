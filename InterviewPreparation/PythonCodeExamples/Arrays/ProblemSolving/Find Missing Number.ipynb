{
 "cells": [
  {
   "cell_type": "markdown",
   "metadata": {},
   "source": [
    "# Problem: 1 Find Missing Number "
   ]
  },
  {
   "cell_type": "code",
   "execution_count": null,
   "metadata": {},
   "outputs": [],
   "source": []
  },
  {
   "cell_type": "markdown",
   "metadata": {},
   "source": [
    "#### Approach-1: Naive Solution\n"
   ]
  },
  {
   "cell_type": "code",
   "execution_count": 3,
   "metadata": {},
   "outputs": [
    {
     "name": "stdout",
     "output_type": "stream",
     "text": [
      "Missing Number is:  5\n"
     ]
    }
   ],
   "source": [
    "def missing_naive_solution(arr):\n",
    "    \n",
    "    #running for each and every element and check if element present in or not\n",
    "    for i in range(1, len(arr) + 2):   #n  ==> We are Running n times\n",
    "        element = i \n",
    "        if element in arr:             #n   ===> we are checking n-1 times\n",
    "            continue\n",
    "        else:\n",
    "            print(\"Missing Number is: \", element)\n",
    "            break\n",
    "\n",
    "arr = [1, 2, 4, 3, 6, 7, 9, 8, 10]\n",
    "missing_naive_solution(arr)"
   ]
  },
  {
   "cell_type": "markdown",
   "metadata": {},
   "source": [
    "#### Time and Space Complexity: \n",
    "\n",
    "#### Time: O(n**2)\n",
    "#### Space: O(1)"
   ]
  },
  {
   "cell_type": "code",
   "execution_count": null,
   "metadata": {},
   "outputs": [],
   "source": []
  },
  {
   "cell_type": "markdown",
   "metadata": {},
   "source": [
    "#### Approach-2: Sum of N numbers"
   ]
  },
  {
   "cell_type": "code",
   "execution_count": 9,
   "metadata": {},
   "outputs": [
    {
     "name": "stdout",
     "output_type": "stream",
     "text": [
      "Missing Number is:  5.0\n"
     ]
    }
   ],
   "source": [
    "def sum_of_n_numbers(arr):\n",
    "    \n",
    "    #getting the sum of first n numbers\n",
    "    n = len(arr) + 1\n",
    "    sum_n_num = (n * (n+1)) / 2\n",
    "    \n",
    "    #getting the sum of array\n",
    "    sum_array = 0\n",
    "    for i in range(len(arr)):\n",
    "        sum_array += arr[i]\n",
    "        \n",
    "    #getting the difference\n",
    "    diff = sum_n_num - sum_array\n",
    "        \n",
    "    return diff\n",
    "\n",
    "\n",
    "\n",
    "arr = [1, 2, 4, 3, 6, 7, 9, 8, 10]\n",
    "print(\"Missing Number is: \", sum_of_n_numbers(arr))"
   ]
  },
  {
   "cell_type": "markdown",
   "metadata": {},
   "source": [
    "#### Time and Space Complexity: \n",
    "\n",
    "#### Time: O(n)\n",
    "#### Space: O(1)\n",
    "\n",
    "- But Here we have overflow problem, occurs when we want to find sum of Large Numbers\n"
   ]
  },
  {
   "cell_type": "code",
   "execution_count": null,
   "metadata": {},
   "outputs": [],
   "source": []
  },
  {
   "cell_type": "markdown",
   "metadata": {},
   "source": [
    "#### Approach-3: Using XOR"
   ]
  },
  {
   "cell_type": "code",
   "execution_count": 13,
   "metadata": {},
   "outputs": [
    {
     "name": "stdout",
     "output_type": "stream",
     "text": [
      "Missing Number is:  5\n"
     ]
    }
   ],
   "source": [
    "def missing_xor(arr):\n",
    "    \n",
    "    #initializing the Values\n",
    "    x1, x2 = arr[0], 1\n",
    "    \n",
    "    #finding XOR in the Array\n",
    "    for i in range(1, len(arr)):\n",
    "        x1 ^= arr[i]\n",
    "        \n",
    "    #Finding XOR for N numbers\n",
    "    for i in range(2, len(arr) + 2):\n",
    "        x2 ^= i\n",
    "        \n",
    "    return x1^ x2\n",
    "\n",
    "\n",
    "        \n",
    "arr = [1, 2, 4, 3, 6, 7, 9, 8, 10]\n",
    "print(\"Missing Number is: \", missing_xor(arr))"
   ]
  },
  {
   "cell_type": "markdown",
   "metadata": {},
   "source": [
    "#### Time and Space Complexity: \n",
    "\n",
    "#### Time: O(n)\n",
    "#### Space: O(1)"
   ]
  }
 ],
 "metadata": {
  "kernelspec": {
   "display_name": "Python 3",
   "language": "python",
   "name": "python3"
  },
  "language_info": {
   "codemirror_mode": {
    "name": "ipython",
    "version": 3
   },
   "file_extension": ".py",
   "mimetype": "text/x-python",
   "name": "python",
   "nbconvert_exporter": "python",
   "pygments_lexer": "ipython3",
   "version": "3.7.6"
  }
 },
 "nbformat": 4,
 "nbformat_minor": 4
}
