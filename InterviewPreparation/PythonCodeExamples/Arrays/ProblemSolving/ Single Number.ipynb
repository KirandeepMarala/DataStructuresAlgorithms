{
 "cells": [
  {
   "cell_type": "markdown",
   "metadata": {},
   "source": [
    "# Single Number"
   ]
  },
  {
   "cell_type": "markdown",
   "metadata": {},
   "source": [
    "#### Given a non-empty array of integers, every element appears twice except for one. Find that single one."
   ]
  },
  {
   "cell_type": "markdown",
   "metadata": {},
   "source": [
    "Example 1:\n",
    "\n",
    "Input: [2,2,1]\n",
    "\n",
    "Output: 1\n",
    "\n",
    "Example 2:\n",
    "\n",
    "Input: [4,1,2,1,2]\n",
    "\n",
    "Output: 4\n"
   ]
  },
  {
   "cell_type": "code",
   "execution_count": null,
   "metadata": {},
   "outputs": [],
   "source": []
  },
  {
   "cell_type": "markdown",
   "metadata": {},
   "source": [
    "### Approach: 1 [BruteForce]"
   ]
  },
  {
   "cell_type": "code",
   "execution_count": 23,
   "metadata": {},
   "outputs": [
    {
     "name": "stdout",
     "output_type": "stream",
     "text": [
      "The Given array is:  [4, 1, 2, 1, 2]\n",
      "Odd element out is:  4\n",
      "******************************\n",
      "The Given array is:  [4, 1, 2, 2, 1, 4]\n",
      "Odd element out is:  -1\n"
     ]
    }
   ],
   "source": [
    "def iterative_loop(arr):\n",
    "    for i in range(len(arr)):\n",
    "        count = 0\n",
    "        element = arr[i]\n",
    "        for j in range(0, len(arr)):\n",
    "            if element == arr[j]:\n",
    "                count += 1\n",
    "        if count % 2 != 0:\n",
    "            return arr[i]\n",
    "    return -1\n",
    "       \n",
    "    \n",
    "arr = [4,1,2,1,2]\n",
    "print(\"The Given array is: \", arr)\n",
    "print(\"Odd element out is: \", iterative_loop(arr))\n",
    "\n",
    "print('*' * 30)    \n",
    "arr = [4,1,2,2,1,4]\n",
    "print(\"The Given array is: \", arr)\n",
    "print(\"Odd element out is: \", iterative_loop(arr))"
   ]
  },
  {
   "cell_type": "markdown",
   "metadata": {},
   "source": [
    "#### Time Complexity:  O(n**2) and Space Complexity: O(1)"
   ]
  },
  {
   "cell_type": "code",
   "execution_count": null,
   "metadata": {},
   "outputs": [],
   "source": []
  },
  {
   "cell_type": "markdown",
   "metadata": {},
   "source": [
    "### Approach: 2  [Using Hashtable]"
   ]
  },
  {
   "cell_type": "code",
   "execution_count": 63,
   "metadata": {},
   "outputs": [
    {
     "name": "stdout",
     "output_type": "stream",
     "text": [
      "The Given array is:  [4, 1, 2, 2, 1]\n",
      "Odd element Out:  4\n",
      "******************************\n",
      "The Given array is:  [4, 1, 2, 2, 1, 4]\n",
      "Odd element Out:  None\n",
      "******************************\n"
     ]
    }
   ],
   "source": [
    "def hash_table_approach(arr):\n",
    "    \n",
    "    dict1 = dict()\n",
    "    for element in arr:\n",
    "        if element in dict1.keys(): \n",
    "            dict1[element] += dict1[element]\n",
    "        else:\n",
    "            dict1[element] = 1 \n",
    "            \n",
    "    for key, value in dict1.items():\n",
    "         if (value % 2) != 0:\n",
    "             return key\n",
    "    \n",
    "arr = [4,1,2,2,1]\n",
    "print(\"The Given array is: \", arr)\n",
    "print(\"Odd element Out: \", hash_table_approach(arr))\n",
    "print('*' * 30)\n",
    "   \n",
    "arr = [4,1,2,2,1, 4]\n",
    "print(\"The Given array is: \", arr)\n",
    "print(\"Odd element Out: \", hash_table_approach(arr))\n",
    "print('*' * 30) "
   ]
  },
  {
   "cell_type": "markdown",
   "metadata": {},
   "source": [
    "#### Time Complexity:  O(n) and Space Complexity: O(n) if all elements are distinct"
   ]
  },
  {
   "cell_type": "code",
   "execution_count": null,
   "metadata": {},
   "outputs": [],
   "source": []
  },
  {
   "cell_type": "markdown",
   "metadata": {},
   "source": [
    "### Approach: 2  [Using XOR]"
   ]
  },
  {
   "cell_type": "code",
   "execution_count": 66,
   "metadata": {},
   "outputs": [
    {
     "name": "stdout",
     "output_type": "stream",
     "text": [
      "The Given array is:  [4, 1, 2, 2, 1]\n",
      "Odd element Out:  4\n",
      "******************************\n",
      "The Given array is:  [4, 1, 2, 2, 1, 4]\n",
      "Odd element Out:  0\n",
      "******************************\n"
     ]
    }
   ],
   "source": [
    "def xor_approach(arr):\n",
    "    x1 = arr[0]\n",
    "    for i in range(1, len(arr)):\n",
    "        x1 = x1 ^ arr[i]\n",
    "    return x1\n",
    "\n",
    "\n",
    "arr = [4,1,2,2,1]\n",
    "print(\"The Given array is: \", arr)\n",
    "print(\"Odd element Out: \", xor_approach(arr))\n",
    "print('*' * 30)\n",
    "\n",
    "\n",
    "arr = [4,1,2,2,1, 4]\n",
    "print(\"The Given array is: \", arr)\n",
    "print(\"Odd element Out: \", xor_approach(arr))\n",
    "print('*' * 30)"
   ]
  },
  {
   "cell_type": "markdown",
   "metadata": {},
   "source": [
    "#### Time Complexity:  O(n) and Space Complexity: O(1)"
   ]
  }
 ],
 "metadata": {
  "kernelspec": {
   "display_name": "Python 3",
   "language": "python",
   "name": "python3"
  },
  "language_info": {
   "codemirror_mode": {
    "name": "ipython",
    "version": 3
   },
   "file_extension": ".py",
   "mimetype": "text/x-python",
   "name": "python",
   "nbconvert_exporter": "python",
   "pygments_lexer": "ipython3",
   "version": "3.7.6"
  }
 },
 "nbformat": 4,
 "nbformat_minor": 4
}
