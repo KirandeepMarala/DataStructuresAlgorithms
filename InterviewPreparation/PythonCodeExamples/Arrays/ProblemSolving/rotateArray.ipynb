{
 "cells": [
  {
   "cell_type": "markdown",
   "metadata": {},
   "source": [
    "# Rotate Array"
   ]
  },
  {
   "cell_type": "markdown",
   "metadata": {},
   "source": [
    "- **Problem Statement: Given an array, rotate the array to the right by k steps, where k is non-negative**\n",
    "\n",
    "**Example 1:**\n",
    "\n",
    "Input: [1,2,3,4,5,6,7] and k = 3\n",
    "\n",
    "Output: [5,6,7,1,2,3,4]\n",
    "\n",
    "Explanation:\n",
    "\n",
    "rotate 1 steps to the right: [7,1,2,3,4,5,6]\n",
    "\n",
    "rotate 2 steps to the right: [6,7,1,2,3,4,5]\n",
    "\n",
    "rotate 3 steps to the right: [5,6,7,1,2,3,4]"
   ]
  },
  {
   "cell_type": "code",
   "execution_count": null,
   "metadata": {},
   "outputs": [],
   "source": []
  },
  {
   "cell_type": "markdown",
   "metadata": {},
   "source": [
    "**Example 2:**\n",
    "\n",
    "Input: [-1,-100,3,99] and k = 2\n",
    "\n",
    "Output: [3,99,-1,-100]\n",
    "\n",
    "Explanation: \n",
    "\n",
    "rotate 1 steps to the right: [99,-1,-100,3]\n",
    "\n",
    "rotate 2 steps to the right: [3,99,-1,-100]\n"
   ]
  },
  {
   "cell_type": "code",
   "execution_count": null,
   "metadata": {},
   "outputs": [],
   "source": []
  },
  {
   "cell_type": "markdown",
   "metadata": {},
   "source": [
    "### Approach-1"
   ]
  },
  {
   "cell_type": "code",
   "execution_count": 9,
   "metadata": {},
   "outputs": [
    {
     "name": "stdout",
     "output_type": "stream",
     "text": [
      "Original Array is:  [2, 4, 5, 6, 7, 12, 23]\n",
      "Enter how many times want to rotate: 3\n",
      "Array after rotating 3 times is [7, 12, 23, 2, 4, 5, 6]\n"
     ]
    }
   ],
   "source": [
    "def rotate():\n",
    "    lst_ele = arr[-1]\n",
    "    for i in range(len(arr)-2, -1, -1):\n",
    "        arr[i + 1] = arr[i]\n",
    "    arr[0] = lst_ele\n",
    "        \n",
    "arr = [2, 4, 5, 6, 7, 12, 23]\n",
    "print(\"Original Array is: \", arr)\n",
    "\n",
    "\n",
    "k = int(input(\"Enter how many times want to rotate: \"))\n",
    "for i in range(k):\n",
    "    rotate()\n",
    "    \n",
    "print(\"Array after rotating {} times is {}\".format(k, arr))"
   ]
  },
  {
   "cell_type": "markdown",
   "metadata": {},
   "source": [
    "### Time complexity and space:\n",
    "- Time complexity: O(n*k)\n",
    "\n",
    "- Space complexity: O(1)\n",
    "\n",
    "- polynomial in 'n' and 'k'"
   ]
  },
  {
   "cell_type": "code",
   "execution_count": null,
   "metadata": {},
   "outputs": [],
   "source": []
  },
  {
   "cell_type": "markdown",
   "metadata": {},
   "source": [
    "### Approach-2"
   ]
  },
  {
   "cell_type": "code",
   "execution_count": 2,
   "metadata": {},
   "outputs": [
    {
     "name": "stdout",
     "output_type": "stream",
     "text": [
      "Original Array is:  [2, 4, 5, 6, 7, 12, 23]\n",
      "Enter how many times want to rotate: 3\n",
      "Array after doing 3 rotations is: [7, 12, 23, 2, 4, 5, 6]\n"
     ]
    }
   ],
   "source": [
    "arr = [2, 4, 5, 6, 7, 12, 23]\n",
    "n = len(arr)\n",
    "print(\"Original Array is: \", arr)\n",
    "\n",
    "k = int(input(\"Enter how many times want to rotate: \"))\n",
    "#taking all the k last elements in temporaray array\n",
    "aux_arr = arr[n-k: n]\n",
    "# print(aux_arr)\n",
    "\n",
    "#making the jumps \n",
    "for i in range(n-k-1, -1, -1):\n",
    "    arr[i+k] = arr[i]\n",
    "\n",
    "arr[0: k] = aux_arr\n",
    "\n",
    "print(\"Array after doing {} rotations is: {}\".format(k, arr))"
   ]
  },
  {
   "cell_type": "markdown",
   "metadata": {},
   "source": [
    "### Time complexity and space:\n",
    "- Time complexity: O(k) * O(n-k) * O(k)  ====> O(n+k) = O(n)\n",
    "\n",
    "- Space complexity: O(k)\n",
    "\n",
    "- Linear Time complexity in 'n' and 'k'"
   ]
  },
  {
   "cell_type": "code",
   "execution_count": null,
   "metadata": {},
   "outputs": [],
   "source": []
  },
  {
   "cell_type": "markdown",
   "metadata": {},
   "source": [
    "### Approach-3"
   ]
  },
  {
   "cell_type": "code",
   "execution_count": 24,
   "metadata": {},
   "outputs": [
    {
     "name": "stdout",
     "output_type": "stream",
     "text": [
      "Original Array is:  [2, 4, 5, 6, 7, 12, 23]\n",
      "Enter how many times want to rotate: 3\n",
      "Array after doing 3 rotations is: [7, 12, 23, 2, 4, 5, 6]\n"
     ]
    }
   ],
   "source": [
    "arr = [2, 4, 5, 6, 7, 12, 23]\n",
    "n = len(arr)\n",
    "print(\"Original Array is: \", arr)\n",
    "\n",
    "k = int(input(\"Enter how many times want to rotate: \"))\n",
    "#taking all the k last elements in temporaray array\n",
    "\n",
    "#reversing the last 'k' elements first\n",
    "i = n-k\n",
    "j = n-1\n",
    "while i <= j:\n",
    "    temp = arr[i]\n",
    "    arr[i] = arr[j]\n",
    "    arr[j] = temp\n",
    "    i += 1\n",
    "    j -= 1\n",
    "    \n",
    "#reversing the first 'n-k' elements \n",
    "i = 0\n",
    "j = n-k-1\n",
    "while i <= j:\n",
    "    temp = arr[i]\n",
    "    arr[i] = arr[j]\n",
    "    arr[j] = temp\n",
    "    i += 1\n",
    "    j -= 1  \n",
    "    \n",
    "#reversing the all elements\n",
    "i = 0\n",
    "j = n-1\n",
    "while i <= j:\n",
    "    temp = arr[i]\n",
    "    arr[i] = arr[j]\n",
    "    arr[j] = temp\n",
    "    i += 1\n",
    "    j -= 1  \n",
    "    \n",
    "print(\"Array after doing {} rotations is: {}\".format(k, arr))"
   ]
  },
  {
   "cell_type": "markdown",
   "metadata": {},
   "source": [
    "### Time complexity and space:\n",
    "- Time complexity: O(n)\n",
    "\n",
    "- Space complexity: O(1)"
   ]
  },
  {
   "cell_type": "code",
   "execution_count": null,
   "metadata": {},
   "outputs": [],
   "source": []
  },
  {
   "cell_type": "code",
   "execution_count": null,
   "metadata": {},
   "outputs": [],
   "source": []
  }
 ],
 "metadata": {
  "kernelspec": {
   "display_name": "Python 3",
   "language": "python",
   "name": "python3"
  },
  "language_info": {
   "codemirror_mode": {
    "name": "ipython",
    "version": 3
   },
   "file_extension": ".py",
   "mimetype": "text/x-python",
   "name": "python",
   "nbconvert_exporter": "python",
   "pygments_lexer": "ipython3",
   "version": "3.7.6"
  }
 },
 "nbformat": 4,
 "nbformat_minor": 4
}
