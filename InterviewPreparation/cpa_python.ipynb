{
 "cells": [
  {
   "cell_type": "code",
   "execution_count": 21,
   "metadata": {},
   "outputs": [],
   "source": []
  },
  {
   "cell_type": "code",
   "execution_count": 22,
   "metadata": {},
   "outputs": [],
   "source": [
    "class Question:\n",
    "    def __init__(self, qid, mo, so):\n",
    "        self.qid = qid\n",
    "        self.mo = mo\n",
    "        self.so = so\n",
    "        self.status = \"Not Answered\"\n",
    "\n",
    "\n",
    "class Student:\n",
    "    def __init__(self, rid, qa):\n",
    "        self.rid = rid\n",
    "        self.qa = qa\n",
    "        \n",
    "    def evaluation(self, ansk):\n",
    "        for k, v in ansk.items():\n",
    "            for i in self.qa:\n",
    "                if i.qid == k:\n",
    "                    if i.mo == v:\n",
    "                        i.status = \"correct\"\n",
    "                else:\n",
    "                    i.status == \"incorrect\"\n",
    "                    \n",
    "    def findGrade(self):\n",
    "        total = 0\n",
    "        for i in self.qa:\n",
    "            if i.status  == \"correct\":\n",
    "                total += i.so\n",
    "        print(\"Total Score\", total)\n",
    "        if total >= 80:\n",
    "            return \"A\"\n",
    "        elif total >= 70:\n",
    "            return \"B\"\n",
    "        elif total >= 60:\n",
    "            return \"C\"\n",
    "        else:\n",
    "            return \"F\"\n",
    "        \n",
    "        \n",
    "x = int(input(\"\"))\n",
    "l = []\n",
    "for i in range(x):\n",
    "    qid = int(input())\n",
    "    mo = int(input())\n",
    "    so = int(input())\n",
    "    l.append(Question(qid, mo, so))\n",
    "    \n",
    "\n",
    "# Create a Student Object\n",
    "\n",
    "s1 = Student(420, l)\n",
    "\n",
    "\n",
    "#getting Answer key\n",
    "cd = int(input(\"\"))\n",
    "ansk = {}\n",
    "for i in range(cd):\n",
    "    qid = int(input())\n",
    "    co = int(input())\n",
    "    ansk[qid] = co\n",
    "    \n",
    "    \n",
    "#sending for evaluation\n",
    "s1.evaluation(ansk)\n",
    "\n",
    "\n",
    "s1.findGrade()"
   ]
  },
  {
   "cell_type": "code",
   "execution_count": 24,
   "metadata": {},
   "outputs": [
    {
     "name": "stdout",
     "output_type": "stream",
     "text": [
      "100\n",
      "4\n",
      "50\n",
      "Not Answered\n",
      "******************************\n",
      "340\n",
      "3\n",
      "30\n",
      "Not Answered\n",
      "******************************\n",
      "489\n",
      "2\n",
      "30\n",
      "Not Answered\n",
      "******************************\n",
      "790\n",
      "2\n",
      "5\n",
      "Not Answered\n",
      "******************************\n"
     ]
    }
   ],
   "source": [
    "for i in range(0, len(l)):\n",
    "    print(l[i].qid)\n",
    "    print(l[i].mo)\n",
    "    print(l[i].so)\n",
    "    print(l[i].status)\n",
    "    print('*' * 30)"
   ]
  },
  {
   "cell_type": "code",
   "execution_count": 25,
   "metadata": {},
   "outputs": [],
   "source": [
    "# Create a Student Object\n",
    "\n",
    "s1 = Student(420, l)"
   ]
  },
  {
   "cell_type": "code",
   "execution_count": 26,
   "metadata": {},
   "outputs": [
    {
     "name": "stdout",
     "output_type": "stream",
     "text": [
      "Enter Numbe of Keys Questions: 3\n",
      "100\n",
      "4\n",
      "Answer Key COmpleted:  0\n",
      "489\n",
      "1\n",
      "Answer Key COmpleted:  1\n",
      "340\n",
      "3\n",
      "Answer Key COmpleted:  2\n"
     ]
    }
   ],
   "source": [
    "\n",
    "    \n"
   ]
  },
  {
   "cell_type": "code",
   "execution_count": 27,
   "metadata": {},
   "outputs": [],
   "source": []
  },
  {
   "cell_type": "code",
   "execution_count": 28,
   "metadata": {},
   "outputs": [
    {
     "name": "stdout",
     "output_type": "stream",
     "text": [
      "100\n",
      "4\n",
      "50\n",
      "correct\n",
      "******************************\n",
      "340\n",
      "3\n",
      "30\n",
      "correct\n",
      "******************************\n",
      "489\n",
      "2\n",
      "30\n",
      "Not Answered\n",
      "******************************\n",
      "790\n",
      "2\n",
      "5\n",
      "Not Answered\n",
      "******************************\n"
     ]
    }
   ],
   "source": [
    "for i in range(0, len(l)):\n",
    "    print(l[i].qid)\n",
    "    print(l[i].mo)\n",
    "    print(l[i].so)\n",
    "    print(l[i].status)\n",
    "    print('*' * 30)"
   ]
  },
  {
   "cell_type": "code",
   "execution_count": 29,
   "metadata": {},
   "outputs": [
    {
     "name": "stdout",
     "output_type": "stream",
     "text": [
      "Total Score 80\n"
     ]
    },
    {
     "data": {
      "text/plain": [
       "'A'"
      ]
     },
     "execution_count": 29,
     "metadata": {},
     "output_type": "execute_result"
    }
   ],
   "source": [
    "s1.findGrade()"
   ]
  },
  {
   "cell_type": "code",
   "execution_count": null,
   "metadata": {},
   "outputs": [],
   "source": []
  },
  {
   "cell_type": "code",
   "execution_count": 31,
   "metadata": {},
   "outputs": [],
   "source": [
    "dict1 ={'a': 1, 'a': 2}"
   ]
  },
  {
   "cell_type": "code",
   "execution_count": 32,
   "metadata": {},
   "outputs": [
    {
     "name": "stdout",
     "output_type": "stream",
     "text": [
      "{'a': 2}\n"
     ]
    }
   ],
   "source": [
    "print(dict1)"
   ]
  },
  {
   "cell_type": "code",
   "execution_count": 39,
   "metadata": {},
   "outputs": [
    {
     "name": "stdout",
     "output_type": "stream",
     "text": [
      "['a', 'b', 'b', 'c', 'c', 'c', 'd', 'd', 'd', 'd', 'e', 'e', 'e', 'e', 'e']\n"
     ]
    }
   ],
   "source": [
    "dict1 = {'a': 1, 'b': 2, 'c': 3, 'd': 4, 'e': 5}\n",
    "res = []\n",
    "for i, j in dict1.items():\n",
    "    res += [i]*j\n",
    "print(res)"
   ]
  },
  {
   "cell_type": "code",
   "execution_count": 40,
   "metadata": {},
   "outputs": [
    {
     "name": "stdout",
     "output_type": "stream",
     "text": [
      "hello\n"
     ]
    }
   ],
   "source": [
    "a = \"h e l l o\"\n",
    "b = a.replace(\" \", '')\n",
    "print(b)"
   ]
  },
  {
   "cell_type": "code",
   "execution_count": null,
   "metadata": {},
   "outputs": [],
   "source": []
  }
 ],
 "metadata": {
  "kernelspec": {
   "display_name": "Python 3",
   "language": "python",
   "name": "python3"
  },
  "language_info": {
   "codemirror_mode": {
    "name": "ipython",
    "version": 3
   },
   "file_extension": ".py",
   "mimetype": "text/x-python",
   "name": "python",
   "nbconvert_exporter": "python",
   "pygments_lexer": "ipython3",
   "version": "3.7.6"
  }
 },
 "nbformat": 4,
 "nbformat_minor": 4
}
